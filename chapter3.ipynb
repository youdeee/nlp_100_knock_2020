{
 "cells": [
  {
   "cell_type": "code",
   "execution_count": 1,
   "metadata": {},
   "outputs": [],
   "source": [
    "import pandas as pd\n",
    "\n",
    "df = pd.read_json(\"jawiki-country.json.gz\", lines=True)"
   ]
  },
  {
   "cell_type": "code",
   "execution_count": 2,
   "metadata": {},
   "outputs": [
    {
     "data": {
      "text/html": [
       "<div>\n",
       "<style scoped>\n",
       "    .dataframe tbody tr th:only-of-type {\n",
       "        vertical-align: middle;\n",
       "    }\n",
       "\n",
       "    .dataframe tbody tr th {\n",
       "        vertical-align: top;\n",
       "    }\n",
       "\n",
       "    .dataframe thead th {\n",
       "        text-align: right;\n",
       "    }\n",
       "</style>\n",
       "<table border=\"1\" class=\"dataframe\">\n",
       "  <thead>\n",
       "    <tr style=\"text-align: right;\">\n",
       "      <th></th>\n",
       "      <th>text</th>\n",
       "      <th>title</th>\n",
       "    </tr>\n",
       "  </thead>\n",
       "  <tbody>\n",
       "    <tr>\n",
       "      <th>235</th>\n",
       "      <td>{{redirect|UK}}\\n{{redirect|英国|春秋時代の諸侯国|英 (春秋)...</td>\n",
       "      <td>イギリス</td>\n",
       "    </tr>\n",
       "  </tbody>\n",
       "</table>\n",
       "</div>"
      ],
      "text/plain": [
       "                                                  text title\n",
       "235  {{redirect|UK}}\\n{{redirect|英国|春秋時代の諸侯国|英 (春秋)...  イギリス"
      ]
     },
     "execution_count": 2,
     "metadata": {},
     "output_type": "execute_result"
    }
   ],
   "source": [
    "# 20\n",
    "\n",
    "uk = df.loc[df[\"title\"] == \"イギリス\"]\n",
    "uk"
   ]
  },
  {
   "cell_type": "code",
   "execution_count": 3,
   "metadata": {},
   "outputs": [
    {
     "data": {
      "text/plain": [
       "['{{Sisterlinks|commons=United Kingdom|commonscat=United Kingdom|s=Category:イギリス|n=Category:イギリス|voy=United Kingdom}}',\n",
       " '[[Category:イギリス|*]]',\n",
       " '[[Category:イギリス連邦加盟国]]',\n",
       " '[[Category:英連邦王国|*]]',\n",
       " '[[Category:G8加盟国]]',\n",
       " '[[Category:欧州連合加盟国|元]]',\n",
       " '[[Category:海洋国家]]',\n",
       " '[[Category:現存する君主国]]',\n",
       " '[[Category:島国]]',\n",
       " '[[Category:1801年に成立した国家・領域]]']"
      ]
     },
     "execution_count": 3,
     "metadata": {},
     "output_type": "execute_result"
    }
   ],
   "source": [
    "# 21\n",
    "\n",
    "import re\n",
    "\n",
    "text = uk[\"text\"].values[0]\n",
    "texts = text.splitlines()\n",
    "lines_include_category = [line for line in texts if re.search(\"Category:\", line)]\n",
    "lines_include_category"
   ]
  },
  {
   "cell_type": "code",
   "execution_count": 4,
   "metadata": {},
   "outputs": [
    {
     "data": {
      "text/plain": [
       "['現存する君主国',\n",
       " 'イギリス連邦加盟国',\n",
       " '海洋国家',\n",
       " '英連邦王国',\n",
       " 'イギリス',\n",
       " 'G8加盟国',\n",
       " '1801年に成立した国家・領域',\n",
       " '欧州連合加盟国',\n",
       " '島国']"
      ]
     },
     "execution_count": 4,
     "metadata": {},
     "output_type": "execute_result"
    }
   ],
   "source": [
    "# 22\n",
    "\n",
    "categories = [re.search(\"Category:(\\S+?)[\\|\\]]\", line).group(1) for line in lines_include_category]\n",
    "categories = list(set(categories))\n",
    "categories"
   ]
  },
  {
   "cell_type": "code",
   "execution_count": 5,
   "metadata": {},
   "outputs": [
    {
     "data": {
      "text/plain": [
       "[['国名', 1],\n",
       " ['歴史', 1],\n",
       " ['地理', 1],\n",
       " ['主要都市', 2],\n",
       " ['気候', 2],\n",
       " ['政治', 1],\n",
       " ['元首', 2],\n",
       " ['法', 2],\n",
       " ['内政', 2],\n",
       " ['地方行政区分', 2],\n",
       " ['外交・軍事', 2],\n",
       " ['経済', 1],\n",
       " ['鉱業', 2],\n",
       " ['農業', 2],\n",
       " ['貿易', 2],\n",
       " ['不動産', 2],\n",
       " ['エネルギー政策', 2],\n",
       " ['通貨', 2],\n",
       " ['企業', 2],\n",
       " ['通信', 3],\n",
       " ['交通', 1],\n",
       " ['道路', 2],\n",
       " ['鉄道', 2],\n",
       " ['海運', 2],\n",
       " ['航空', 2],\n",
       " ['科学技術', 1],\n",
       " ['国民', 1],\n",
       " ['言語', 2],\n",
       " ['宗教', 2],\n",
       " ['婚姻', 2],\n",
       " ['移住', 2],\n",
       " ['教育', 2],\n",
       " ['医療', 2],\n",
       " ['文化', 1],\n",
       " ['食文化', 2],\n",
       " ['文学', 2],\n",
       " ['哲学', 2],\n",
       " ['音楽', 2],\n",
       " ['ポピュラー音楽', 3],\n",
       " ['映画', 2],\n",
       " ['コメディ', 2],\n",
       " ['国花', 2],\n",
       " ['世界遺産', 2],\n",
       " ['祝祭日', 2],\n",
       " ['スポーツ', 2],\n",
       " ['サッカー', 3],\n",
       " ['クリケット', 3],\n",
       " ['競馬', 3],\n",
       " ['モータースポーツ', 3],\n",
       " ['野球', 3],\n",
       " ['=', 1],\n",
       " ['=', 1],\n",
       " ['=', 1],\n",
       " ['=', 1],\n",
       " ['脚注', 1],\n",
       " ['関連項目', 1],\n",
       " ['外部リンク', 1]]"
      ]
     },
     "execution_count": 5,
     "metadata": {},
     "output_type": "execute_result"
    }
   ],
   "source": [
    "# 23\n",
    "    \n",
    "[[matched[1], len(matched[0]) - 1] for matched in re.findall(\"(==+)(\\S+?)=\", text)]    "
   ]
  },
  {
   "cell_type": "code",
   "execution_count": 6,
   "metadata": {},
   "outputs": [
    {
     "data": {
      "text/plain": [
       "['Royal Coat of Arms of the United Kingdom.svg',\n",
       " 'United States Navy Band - God Save the Queen.ogg',\n",
       " 'Descriptio Prime Tabulae Europae.jpg',\n",
       " \"Lenepveu, Jeanne d'Arc au siège d'Orléans.jpg\",\n",
       " 'London.bankofengland.arp.jpg',\n",
       " 'Battle of Waterloo 1815.PNG',\n",
       " 'Uk topo en.jpg',\n",
       " 'BenNevis2005.jpg',\n",
       " 'Population density UK 2011 census.png',\n",
       " '2019 Greenwich Peninsula & Canary Wharf.jpg',\n",
       " 'Birmingham Skyline from Edgbaston Cricket Ground crop.jpg',\n",
       " 'Leeds CBD at night.jpg',\n",
       " 'Glasgow and the Clyde from the air (geograph 4665720).jpg',\n",
       " 'Palace of Westminster, London - Feb 2007.jpg',\n",
       " 'Scotland Parliament Holyrood.jpg',\n",
       " 'Donald Trump and Theresa May (33998675310) (cropped).jpg',\n",
       " 'Soldiers Trooping the Colour, 16th June 2007.jpg',\n",
       " 'City of London skyline from London City Hall - Oct 2008.jpg',\n",
       " 'Oil platform in the North SeaPros.jpg',\n",
       " 'Eurostar at St Pancras Jan 2008.jpg',\n",
       " 'Heathrow Terminal 5C Iwelumo-1.jpg',\n",
       " 'Airbus A380-841 G-XLEB British Airways (10424102995).jpg',\n",
       " 'UKpop.svg',\n",
       " 'Anglospeak.svg',\n",
       " \"Royal Aberdeen Children's Hospital.jpg\",\n",
       " 'CHANDOS3.jpg',\n",
       " 'The Fabs.JPG',\n",
       " 'Wembley Stadium, illuminated.jpg']"
      ]
     },
     "execution_count": 6,
     "metadata": {},
     "output_type": "execute_result"
    }
   ],
   "source": [
    "# 24\n",
    "\n",
    "[matched for matched in re.findall(\"ファイル:(.+?)[\\|\\]]\", text)]"
   ]
  },
  {
   "cell_type": "code",
   "execution_count": 7,
   "metadata": {},
   "outputs": [
    {
     "data": {
      "text/plain": [
       "{'略名': 'イギリス',\n",
       " '日本語国名': 'グレートブリテン及び北アイルランド連合王国',\n",
       " '公式国名': '{{lang|en|United Kingdom of Great Britain and Northern Ireland}}<ref>英語以外での正式国名:<br />',\n",
       " '国旗画像': 'Flag of the United Kingdom.svg',\n",
       " '国章画像': '[[ファイル:Royal Coat of Arms of the United Kingdom.svg|85px|イギリスの国章]]',\n",
       " '国章リンク': '（[[イギリスの国章|国章]]）',\n",
       " '標語': '{{lang|fr|[[Dieu et mon droit]]}}<br />（[[フランス語]]:[[Dieu et mon droit|神と我が権利]]）',\n",
       " '国歌': \"[[女王陛下万歳|{{lang|en|God Save the Queen}}]]{{en icon}}<br />''神よ女王を護り賜え''<br />{{center|[[ファイル:United States Navy Band - God Save the Queen.ogg]]}}\",\n",
       " '地図画像': 'Europe-UK.svg',\n",
       " '位置画像': 'United Kingdom (+overseas territories) in the World (+Antarctica claims).svg',\n",
       " '公用語': '[[英語]]',\n",
       " '首都': '[[ロンドン]]（事実上）',\n",
       " '最大都市': 'ロンドン',\n",
       " '元首等肩書': '[[イギリスの君主|女王]]',\n",
       " '元首等氏名': '[[エリザベス2世]]',\n",
       " '首相等肩書': '[[イギリスの首相|首相]]',\n",
       " '首相等氏名': '[[ボリス・ジョンソン]]',\n",
       " '他元首等肩書1': '[[貴族院 (イギリス)|貴族院議長]]',\n",
       " '他元首等氏名1': '[[:en:Norman Fowler, Baron Fowler|ノーマン・ファウラー]]',\n",
       " '他元首等肩書2': '[[庶民院 (イギリス)|庶民院議長]]',\n",
       " '他元首等氏名2': '{{仮リンク|リンゼイ・ホイル|en|Lindsay Hoyle}}',\n",
       " '他元首等肩書3': '[[連合王国最高裁判所|最高裁判所長官]]',\n",
       " '他元首等氏名3': '[[:en:Brenda Hale, Baroness Hale of Richmond|ブレンダ・ヘイル]]',\n",
       " '面積順位': '76',\n",
       " '面積大きさ': '1 E11',\n",
       " '面積値': '244,820',\n",
       " '水面積率': '1.3%',\n",
       " '人口統計年': '2018',\n",
       " '人口順位': '22',\n",
       " '人口大きさ': '1 E7',\n",
       " '人口値': '6643万5600<ref>{{Cite web|url=https://www.ons.gov.uk/peoplepopulationandcommunity/populationandmigration/populationestimates|title=Population estimates - Office for National Statistics|accessdate=2019-06-26|date=2019-06-26}}</ref>',\n",
       " '人口密度値': '271',\n",
       " 'GDP統計年元': '2012',\n",
       " 'GDP値元': '1兆5478億<ref name=\"imf-statistics-gdp\">[http://www.imf.org/external/pubs/ft/weo/2012/02/weodata/weorept.aspx?pr.x=70&pr.y=13&sy=2010&ey=2012&scsm=1&ssd=1&sort=country&ds=.&br=1&c=112&s=NGDP%2CNGDPD%2CPPPGDP%2CPPPPC&grp=0&a=IMF>Data and Statistics>World Economic Outlook Databases>By Countrise>United Kingdom]</ref>',\n",
       " 'GDP統計年MER': '2012',\n",
       " 'GDP順位MER': '6',\n",
       " 'GDP値MER': '2兆4337億<ref name=\"imf-statistics-gdp\" />',\n",
       " 'GDP統計年': '2012',\n",
       " 'GDP順位': '6',\n",
       " 'GDP値': '2兆3162億<ref name=\"imf-statistics-gdp\" />',\n",
       " 'GDP/人': '36,727<ref name=\"imf-statistics-gdp\" />',\n",
       " '建国形態': '建国',\n",
       " '確立形態1': '[[イングランド王国]]／[[スコットランド王国]]<br />（両国とも[[合同法 (1707年)|1707年合同法]]まで）',\n",
       " '確立年月日1': '927年／843年',\n",
       " '確立形態2': '[[グレートブリテン王国]]成立<br />（1707年合同法）',\n",
       " '確立年月日2': '1707年{{0}}5月{{0}}1日',\n",
       " '確立形態3': '[[グレートブリテン及びアイルランド連合王国]]成立<br />（[[合同法 (1800年)|1800年合同法]]）',\n",
       " '確立年月日3': '1801年{{0}}1月{{0}}1日',\n",
       " '確立形態4': \"現在の国号「'''グレートブリテン及び北アイルランド連合王国'''」に変更\",\n",
       " '確立年月日4': '1927年{{0}}4月12日',\n",
       " '通貨': '[[スターリング・ポンド|UKポンド]] (£)',\n",
       " '通貨コード': 'GBP',\n",
       " '時間帯': '±0',\n",
       " '夏時間': '+1',\n",
       " 'ISO 3166-1': 'GB / GBR',\n",
       " 'ccTLD': '[[.uk]] / [[.gb]]<ref>使用は.ukに比べ圧倒的少数。</ref>',\n",
       " '国際電話番号': '44',\n",
       " '注記': '<references/>'}"
      ]
     },
     "execution_count": 7,
     "metadata": {},
     "output_type": "execute_result"
    }
   ],
   "source": [
    "# 25\n",
    "\n",
    "text_basic_info = re.search(r\"基礎情報(.*?)\\n}}\\n\",text, flags=re.DOTALL)[0]\n",
    "basic_info = dict([(matched[0], matched[2]) for matched in re.findall(r\"\\|(.+?)( *= *)(.*)\\n\", text_basic_info)])\n",
    "basic_info"
   ]
  },
  {
   "cell_type": "code",
   "execution_count": 8,
   "metadata": {},
   "outputs": [
    {
     "data": {
      "text/plain": [
       "{'略名': 'イギリス',\n",
       " '日本語国名': 'グレートブリテン及び北アイルランド連合王国',\n",
       " '公式国名': 'United Kingdom of Great Britain and Northern Ireland',\n",
       " '国旗画像': 'Flag of the United Kingdom.svg',\n",
       " '国章画像': 'Royal Coat of Arms of the United Kingdom.svg',\n",
       " '国章リンク': '国章',\n",
       " '標語': 'Dieu et mon droit',\n",
       " '国歌': 'God Save the Queen',\n",
       " '地図画像': 'Europe-UK.svg',\n",
       " '位置画像': 'United Kingdom (+overseas territories) in the World (+Antarctica claims).svg',\n",
       " '公用語': '英語',\n",
       " '首都': 'ロンドン',\n",
       " '最大都市': 'ロンドン',\n",
       " '元首等肩書': '女王',\n",
       " '元首等氏名': 'エリザベス2世',\n",
       " '首相等肩書': '首相',\n",
       " '首相等氏名': 'ボリス・ジョンソン',\n",
       " '他元首等肩書1': '貴族院議長',\n",
       " '他元首等氏名1': 'ノーマン・ファウラー',\n",
       " '他元首等肩書2': '庶民院議長',\n",
       " '他元首等氏名2': 'リンゼイ・ホイル',\n",
       " '他元首等肩書3': '最高裁判所長官',\n",
       " '他元首等氏名3': 'ブレンダ・ヘイル',\n",
       " '面積順位': '76',\n",
       " '面積大きさ': '1 E11',\n",
       " '面積値': '244,820',\n",
       " '水面積率': '1.3%',\n",
       " '人口統計年': '2018',\n",
       " '人口順位': '22',\n",
       " '人口大きさ': '1 E7',\n",
       " '人口値': '6643万5600',\n",
       " '人口密度値': '271',\n",
       " 'GDP統計年元': '2012',\n",
       " 'GDP値元': '1兆5478億',\n",
       " 'GDP統計年MER': '2012',\n",
       " 'GDP順位MER': '6',\n",
       " 'GDP値MER': '2兆4337億',\n",
       " 'GDP統計年': '2012',\n",
       " 'GDP順位': '6',\n",
       " 'GDP値': '2兆3162億',\n",
       " 'GDP/人': '36,727',\n",
       " '建国形態': '建国',\n",
       " '確立形態1': 'イングランド王国',\n",
       " '確立年月日1': '927年／843年',\n",
       " '確立形態2': 'グレートブリテン王国',\n",
       " '確立年月日2': '1707年5月1日',\n",
       " '確立形態3': 'グレートブリテン及びアイルランド連合王国',\n",
       " '確立年月日3': '1801年1月1日',\n",
       " '確立形態4': '現在の国号「グレートブリテン及び北アイルランド連合王国」に変更',\n",
       " '確立年月日4': '1927年4月12日',\n",
       " '通貨': 'UKポンド',\n",
       " '通貨コード': 'GBP',\n",
       " '時間帯': '±0',\n",
       " '夏時間': '+1',\n",
       " 'ISO 3166-1': 'GB / GBR',\n",
       " 'ccTLD': '.uk',\n",
       " '国際電話番号': '44',\n",
       " '注記': ''}"
      ]
     },
     "execution_count": 8,
     "metadata": {},
     "output_type": "execute_result"
    }
   ],
   "source": [
    "# 26-28\n",
    "\n",
    "res = {}\n",
    "for k in basic_info:\n",
    "    info = basic_info[k].replace(\"'''\", \"\").replace(\"{{0}}\", \"\").replace(\"<br/>\", \"\")\n",
    "    info = re.sub(\"<ref(.+?)(</ref>|/>)\", \"\", info)\n",
    "    info = re.sub(\"lang\\|(.+?)\\|\", \"\", info)\n",
    "    braces = re.search(\"\\{\\{(.+?)\\}\\}\", info)\n",
    "    if braces:\n",
    "        info = braces[1]\n",
    "    brackets = re.search(\"\\[\\[(.+?)\\]\\]\", info)\n",
    "    if brackets:\n",
    "        file = re.search(\"(ファイル|File):(.+?)\\|\", brackets[0])\n",
    "        if file:\n",
    "            info = file[2]\n",
    "        else:\n",
    "            info = brackets[1]\n",
    "    infos = info.split(\"|\")\n",
    "    info = infos[1] if len(infos) > 1 else infos[0]\n",
    "    res[k] = info\n",
    "res"
   ]
  },
  {
   "cell_type": "code",
   "execution_count": 25,
   "metadata": {},
   "outputs": [
    {
     "data": {
      "text/plain": [
       "'https://upload.wikimedia.org/wikipedia/commons/a/ae/Flag_of_the_United_Kingdom.svg'"
      ]
     },
     "execution_count": 25,
     "metadata": {},
     "output_type": "execute_result"
    }
   ],
   "source": [
    "# 29\n",
    "\n",
    "import requests\n",
    "\n",
    "url_file = basic_info['国旗画像']\n",
    "url = 'https://commons.wikimedia.org/w/api.php?action=query&titles=File:' + url_file + '&prop=imageinfo&iiprop=url&format=json'\n",
    "data = requests.get(url) \n",
    "re.search(r'\"url\":\"(.+?)\"', data.text)[1]"
   ]
  }
 ],
 "metadata": {
  "kernelspec": {
   "display_name": "Python 3",
   "language": "python",
   "name": "python3"
  },
  "language_info": {
   "codemirror_mode": {
    "name": "ipython",
    "version": 3
   },
   "file_extension": ".py",
   "mimetype": "text/x-python",
   "name": "python",
   "nbconvert_exporter": "python",
   "pygments_lexer": "ipython3",
   "version": "3.7.2"
  }
 },
 "nbformat": 4,
 "nbformat_minor": 2
}
