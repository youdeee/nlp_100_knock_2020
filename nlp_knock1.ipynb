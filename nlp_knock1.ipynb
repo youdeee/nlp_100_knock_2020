{
 "cells": [
  {
   "cell_type": "code",
   "execution_count": 1,
   "metadata": {},
   "outputs": [
    {
     "data": {
      "text/plain": [
       "'desserts'"
      ]
     },
     "execution_count": 1,
     "metadata": {},
     "output_type": "execute_result"
    }
   ],
   "source": [
    "# 0\n",
    "\n",
    "\"stressed\"[::-1]"
   ]
  },
  {
   "cell_type": "code",
   "execution_count": 2,
   "metadata": {},
   "outputs": [
    {
     "data": {
      "text/plain": [
       "'パトカー'"
      ]
     },
     "execution_count": 2,
     "metadata": {},
     "output_type": "execute_result"
    }
   ],
   "source": [
    "# 1\n",
    "\n",
    "\"パタトクカシーー\"[::2]"
   ]
  },
  {
   "cell_type": "code",
   "execution_count": 3,
   "metadata": {},
   "outputs": [
    {
     "data": {
      "text/plain": [
       "'パタトクカシーー'"
      ]
     },
     "execution_count": 3,
     "metadata": {},
     "output_type": "execute_result"
    }
   ],
   "source": [
    "# 2\n",
    "\n",
    "t1 = \"パトカー\"\n",
    "t2 = \"タクシー\"\n",
    "\n",
    "\"\".join([t1[i] + t2[i] for i in range(len(t1))])"
   ]
  },
  {
   "cell_type": "code",
   "execution_count": 4,
   "metadata": {},
   "outputs": [
    {
     "data": {
      "text/plain": [
       "[3, 1, 4, 1, 5, 9, 2, 6, 5, 3, 5, 8, 9, 7, 9]"
      ]
     },
     "execution_count": 4,
     "metadata": {},
     "output_type": "execute_result"
    }
   ],
   "source": [
    "# 3\n",
    "\n",
    "text = \"Now I need a drink, alcoholic of course, after the heavy lectures involving quantum mechanics.\"\n",
    "\n",
    "[len(word) for word in text.replace(\",\", \"\").replace(\".\", \"\").split()]"
   ]
  },
  {
   "cell_type": "code",
   "execution_count": 5,
   "metadata": {},
   "outputs": [
    {
     "data": {
      "text/plain": [
       "{'H': 1,\n",
       " 'He': 2,\n",
       " 'Li': 3,\n",
       " 'Be': 4,\n",
       " 'B': 5,\n",
       " 'C': 6,\n",
       " 'N': 7,\n",
       " 'O': 8,\n",
       " 'F': 9,\n",
       " 'Ne': 10,\n",
       " 'Na': 11,\n",
       " 'Mi': 12,\n",
       " 'Al': 13,\n",
       " 'Si': 14,\n",
       " 'P': 15,\n",
       " 'S': 16,\n",
       " 'Cl': 17,\n",
       " 'Ar': 18,\n",
       " 'K': 19,\n",
       " 'Ca': 20}"
      ]
     },
     "execution_count": 5,
     "metadata": {},
     "output_type": "execute_result"
    }
   ],
   "source": [
    "# 4\n",
    "\n",
    "text = \"Hi He Lied Because Boron Could Not Oxidize Fluorine. New Nations Might Also Sign Peace Security Clause. Arthur King Can.\"\n",
    "\n",
    "dict([(word[0] if i in [1, 5, 6, 7, 8, 9, 15, 16, 19] else word[:2], i) for i, word in enumerate(text.replace(\",\", \"\").replace(\".\", \"\").split(), 1)])"
   ]
  },
  {
   "cell_type": "code",
   "execution_count": 6,
   "metadata": {},
   "outputs": [
    {
     "name": "stdout",
     "output_type": "stream",
     "text": [
      "[['I', 'am'], ['am', 'an'], ['an', 'NLPer']]\n",
      "['I ', ' a', 'am', 'm ', ' a', 'an', 'n ', ' N', 'NL', 'LP', 'Pe', 'er']\n",
      "[['I', 'am', 'an'], ['am', 'an', 'NLPer']]\n",
      "['I a', ' am', 'am ', 'm a', ' an', 'an ', 'n N', ' NL', 'NLP', 'LPe', 'Per']\n"
     ]
    }
   ],
   "source": [
    "# 5\n",
    "\n",
    "def n_gram(arr, n):\n",
    "    return [arr[i:i+n] for i in range(len(arr) - n + 1)]\n",
    "\n",
    "text = \"I am an NLPer\"\n",
    "print(n_gram(text.split(), 2))\n",
    "print(n_gram(text, 2))\n",
    "print(n_gram(text.split(), 3))\n",
    "print(n_gram(text, 3))"
   ]
  },
  {
   "cell_type": "code",
   "execution_count": 7,
   "metadata": {},
   "outputs": [
    {
     "name": "stdout",
     "output_type": "stream",
     "text": [
      "和集合\n",
      "{'dis', 'ise', 'agr', 'rad', 'rag', 'gra', 'aph', 'adi', 'par', 'apa', 'ara', 'rap'}\n",
      "積集合\n",
      "{'par', 'ara', 'rap'}\n",
      "差集合\n",
      "{'dis', 'ise', 'rad', 'adi', 'apa'}\n",
      "{'agr', 'gra', 'rag', 'aph'}\n",
      "False\n"
     ]
    }
   ],
   "source": [
    "# 6\n",
    "\n",
    "n = 3\n",
    "X = n_gram(\"paraparaparadise\", n)\n",
    "Y = n_gram(\"paragraph\", n)\n",
    "\n",
    "print(\"和集合\")\n",
    "print(set(X) | set(Y))\n",
    "print(\"積集合\")\n",
    "print(set(X) & set(Y))\n",
    "print(\"差集合\")\n",
    "print(set(X) - set(Y))\n",
    "print(set(Y) - set(X))\n",
    "\n",
    "print(\"se\" in set(X) & set(Y))"
   ]
  },
  {
   "cell_type": "code",
   "execution_count": 8,
   "metadata": {},
   "outputs": [
    {
     "name": "stdout",
     "output_type": "stream",
     "text": [
      "12時の気温は22.4\n"
     ]
    }
   ],
   "source": [
    "# 7\n",
    "\n",
    "def xyz(x, y, z):\n",
    "    return f'{x}時の{y}は{z}'\n",
    "\n",
    "print(xyz(12, '気温', 22.4))"
   ]
  },
  {
   "cell_type": "code",
   "execution_count": 18,
   "metadata": {},
   "outputs": [
    {
     "name": "stdout",
     "output_type": "stream",
     "text": [
      "I xlfowm’g yvorvev gszg I xlfow zxgfzoob fmwvihgzmw dszg I dzh ivzwrmt : gsv ksvmlnvmzo kldvi lu gsv sfnzm nrmw\n",
      "I couldn’t believe that I could actually understand what I was reading : the phenomenal power of the human mind\n"
     ]
    }
   ],
   "source": [
    "# 8\n",
    "\n",
    "def cipher(text):\n",
    "    return \"\".join([chr(219 - ord(t)) if t.islower() else t for t in text])\n",
    "\n",
    "ans = cipher(\"I couldn’t believe that I could actually understand what I was reading : the phenomenal power of the human mind\")\n",
    "print(ans)\n",
    "ans = cipher(ans)\n",
    "print(ans)"
   ]
  },
  {
   "cell_type": "code",
   "execution_count": 21,
   "metadata": {},
   "outputs": [
    {
     "name": "stdout",
     "output_type": "stream",
     "text": [
      "I cl’udnot beevile that I colud atlluacy urasntednd what I was renidag : the poenamehnl pweor of the hmaun mind .\n",
      "I col’ndut bvileee that I cluod alaltucy udnrnstead what I was rdianeg : the pnhemeaonl peowr of the hamun mind .\n",
      "I cnoudl’t beievle that I colud allutacy uendsatrnd what I was raiedng : the paohemnenl peowr of the human mind .\n"
     ]
    }
   ],
   "source": [
    "# 9 \n",
    "\n",
    "import random\n",
    "\n",
    "def _typoglycemia(word):\n",
    "    return word[0] + \"\".join(random.sample(word[1:-1], len(word[1:-1]))) + word[-1]\n",
    "    \n",
    "def typoglycemia(text):\n",
    "    return \" \".join([_typoglycemia(word) if len(word) > 4 else word for word in text.split()])\n",
    "\n",
    "text = \"I couldn’t believe that I could actually understand what I was reading : the phenomenal power of the human mind .\"\n",
    "print(typoglycemia(text))    \n",
    "print(typoglycemia(text)) \n",
    "print(typoglycemia(text)) "
   ]
  },
  {
   "cell_type": "code",
   "execution_count": null,
   "metadata": {},
   "outputs": [],
   "source": []
  }
 ],
 "metadata": {
  "kernelspec": {
   "display_name": "Python 3",
   "language": "python",
   "name": "python3"
  },
  "language_info": {
   "codemirror_mode": {
    "name": "ipython",
    "version": 3
   },
   "file_extension": ".py",
   "mimetype": "text/x-python",
   "name": "python",
   "nbconvert_exporter": "python",
   "pygments_lexer": "ipython3",
   "version": "3.7.2"
  }
 },
 "nbformat": 4,
 "nbformat_minor": 2
}
